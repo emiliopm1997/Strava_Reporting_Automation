{
 "cells": [
  {
   "attachments": {},
   "cell_type": "markdown",
   "metadata": {},
   "source": [
    "# Data Base Template Generator"
   ]
  },
  {
   "cell_type": "code",
   "execution_count": 1,
   "metadata": {},
   "outputs": [],
   "source": [
    "import os\n",
    "os.chdir('../') \n",
    "\n",
    "from strava_reporter.handlers.database import DBHandler\n",
    "db = DBHandler(set_template=True)"
   ]
  },
  {
   "cell_type": "markdown",
   "metadata": {},
   "source": [
    "### Weeks Template"
   ]
  },
  {
   "cell_type": "code",
   "execution_count": 2,
   "metadata": {},
   "outputs": [
    {
     "data": {
      "text/plain": [
       "<sqlite3.Cursor at 0x7f54deda96c0>"
      ]
     },
     "execution_count": 2,
     "metadata": {},
     "output_type": "execute_result"
    }
   ],
   "source": [
    "sql = \"\"\"\n",
    "CREATE TABLE WEEKS (\n",
    "    week_number INTEGER NOT NULL PRIMARY KEY,\n",
    "    week_start VARCHAR(10) NOT NULL,\n",
    "    week_end VARCHAR(10) NOT NULL,\n",
    "    week_start_unix INTEGER,\n",
    "    week_end_unix INTEGER\n",
    ");\n",
    "\"\"\"\n",
    "db.cur.execute(sql)"
   ]
  },
  {
   "attachments": {},
   "cell_type": "markdown",
   "metadata": {},
   "source": [
    "### Activities Template"
   ]
  },
  {
   "cell_type": "code",
   "execution_count": 3,
   "metadata": {},
   "outputs": [
    {
     "data": {
      "text/plain": [
       "<sqlite3.Cursor at 0x7f54deda96c0>"
      ]
     },
     "execution_count": 3,
     "metadata": {},
     "output_type": "execute_result"
    }
   ],
   "source": [
    "sql = \"\"\"\n",
    "CREATE TABLE ACTIVITIES (\n",
    "    activity_id VARCHAR(255) NOT NULL PRIMARY KEY,\n",
    "    week_number INTEGER NOT NULL,\n",
    "    name VARCHAR(255) NOT NULL,\n",
    "    athlete VARCHAR(255) NOT NULL,\n",
    "    duration_secs INT NOT NULL,\n",
    "    date VARCHAR(10) NOT NULL,\n",
    "  \tFOREIGN KEY (week_number) REFERENCES WEEKS(week_number)\n",
    ");\n",
    "\"\"\"\n",
    "db.cur.execute(sql)"
   ]
  },
  {
   "attachments": {},
   "cell_type": "markdown",
   "metadata": {},
   "source": [
    "### Athletes Template"
   ]
  },
  {
   "cell_type": "code",
   "execution_count": 4,
   "metadata": {},
   "outputs": [
    {
     "data": {
      "text/plain": [
       "<sqlite3.Cursor at 0x7f54deda96c0>"
      ]
     },
     "execution_count": 4,
     "metadata": {},
     "output_type": "execute_result"
    }
   ],
   "source": [
    "sql = \"\"\"\n",
    "CREATE TABLE ATHLETES (\n",
    "    name VARCHAR(255) NOT NULL,\n",
    "    strava_name VARCHAR(255) NOT NULL,\n",
    "    active BIT NOT NULL,\n",
    "    weeks_completed INT NOT NULL\n",
    ");\n",
    "\"\"\"\n",
    "db.cur.execute(sql)"
   ]
  },
  {
   "attachments": {},
   "cell_type": "markdown",
   "metadata": {},
   "source": [
    "### Debts Template"
   ]
  },
  {
   "cell_type": "code",
   "execution_count": 5,
   "metadata": {},
   "outputs": [
    {
     "data": {
      "text/plain": [
       "<sqlite3.Cursor at 0x7f54deda96c0>"
      ]
     },
     "execution_count": 5,
     "metadata": {},
     "output_type": "execute_result"
    }
   ],
   "source": [
    "sql = \"\"\"\n",
    "CREATE TABLE DEBTS (\n",
    "    athlete VARCHAR(255) NOT NULL,\n",
    "    week_number INT NOT NULL,\n",
    "    total_abandonment BIT NOT NULL,\n",
    "    paid BIT NOT NULL,\n",
    "    FOREIGN KEY (week_number) REFERENCES WEEKS(week_number)\n",
    ");\n",
    "\"\"\"\n",
    "db.cur.execute(sql)"
   ]
  },
  {
   "cell_type": "code",
   "execution_count": null,
   "metadata": {},
   "outputs": [],
   "source": []
  }
 ],
 "metadata": {
  "kernelspec": {
   "display_name": "py_env",
   "language": "python",
   "name": "python3"
  },
  "language_info": {
   "codemirror_mode": {
    "name": "ipython",
    "version": 3
   },
   "file_extension": ".py",
   "mimetype": "text/x-python",
   "name": "python",
   "nbconvert_exporter": "python",
   "pygments_lexer": "ipython3",
   "version": "3.8.16"
  },
  "orig_nbformat": 4,
  "vscode": {
   "interpreter": {
    "hash": "658e90a01bf3cea435986352b0690b9e4aa6627658434d357e4d946dd2bdd8c0"
   }
  }
 },
 "nbformat": 4,
 "nbformat_minor": 2
}
