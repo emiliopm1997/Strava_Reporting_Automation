{
 "cells": [
  {
   "attachments": {},
   "cell_type": "markdown",
   "metadata": {},
   "source": [
    "# Data Base Filler"
   ]
  },
  {
   "cell_type": "code",
   "execution_count": 1,
   "metadata": {},
   "outputs": [],
   "source": [
    "import os\n",
    "os.chdir('../') \n",
    "\n",
    "from strava_reporter.handlers.database import DBHandler\n",
    "db = DBHandler()"
   ]
  },
  {
   "attachments": {},
   "cell_type": "markdown",
   "metadata": {},
   "source": [
    "### Fill Weeks"
   ]
  },
  {
   "cell_type": "code",
   "execution_count": 2,
   "metadata": {},
   "outputs": [
    {
     "name": "stdout",
     "output_type": "stream",
     "text": [
      "INSERT INTO WEEKS VALUES (1, '2023-04-03', '2023-04-09', 1680501600, 1681106400)\n",
      "INSERT INTO WEEKS VALUES (2, '2023-04-10', '2023-04-16', 1681106400, 1681711200)\n",
      "INSERT INTO WEEKS VALUES (3, '2023-04-17', '2023-04-23', 1681711200, 1682316000)\n",
      "INSERT INTO WEEKS VALUES (4, '2023-04-24', '2023-04-30', 1682316000, 1682920800)\n",
      "INSERT INTO WEEKS VALUES (5, '2023-05-01', '2023-05-07', 1682920800, 1683525600)\n",
      "INSERT INTO WEEKS VALUES (6, '2023-05-08', '2023-05-14', 1683525600, 1684130400)\n",
      "INSERT INTO WEEKS VALUES (7, '2023-05-15', '2023-05-21', 1684130400, 1684735200)\n",
      "INSERT INTO WEEKS VALUES (8, '2023-05-22', '2023-05-28', 1684735200, 1685340000)\n",
      "INSERT INTO WEEKS VALUES (9, '2023-05-29', '2023-06-04', 1685340000, 1685944800)\n",
      "INSERT INTO WEEKS VALUES (10, '2023-06-05', '2023-06-11', 1685944800, 1686549600)\n",
      "INSERT INTO WEEKS VALUES (11, '2023-06-12', '2023-06-18', 1686549600, 1687154400)\n",
      "INSERT INTO WEEKS VALUES (12, '2023-06-19', '2023-06-25', 1687154400, 1687759200)\n"
     ]
    }
   ],
   "source": [
    "start = \"2023-04-03\"\n",
    "end = \"2023-06-25\"\n",
    "\n",
    "db.fill_weeks(start, end)"
   ]
  },
  {
   "attachments": {},
   "cell_type": "markdown",
   "metadata": {},
   "source": [
    "### Fill Athletes"
   ]
  },
  {
   "cell_type": "code",
   "execution_count": 3,
   "metadata": {},
   "outputs": [
    {
     "name": "stdout",
     "output_type": "stream",
     "text": [
      "INSERT INTO ATHLETES VALUES ('Emilio Padrón', 'Emilio P.', True, 2)\n",
      "INSERT INTO ATHLETES VALUES ('Ana Barbara González', 'Ana Barbara G.', True, 2)\n",
      "INSERT INTO ATHLETES VALUES ('Ana Ceci Foulkes', 'Ana Ceci F.', True, 2)\n",
      "INSERT INTO ATHLETES VALUES ('Daniel Llamas', 'Daniel L.', True, 2)\n",
      "INSERT INTO ATHLETES VALUES ('Fredy De León', 'Fredy D.', True, 2)\n",
      "INSERT INTO ATHLETES VALUES ('Gerardo Martínez', 'Gerardo M.', True, 2)\n",
      "INSERT INTO ATHLETES VALUES ('Jose Ge Estrada', 'Jose Ge E.', True, 2)\n",
      "INSERT INTO ATHLETES VALUES ('Maryfer Gama', 'Maryfer G.', True, 2)\n",
      "INSERT INTO ATHLETES VALUES ('Natalia Ortega', 'Natalia O.', True, 2)\n",
      "INSERT INTO ATHLETES VALUES ('Sebastián Gutierrez', 'Sebastian G.', True, 2)\n",
      "INSERT INTO ATHLETES VALUES ('Amado Herrera', 'Amado H.', True, 2)\n",
      "INSERT INTO ATHLETES VALUES ('Marco González', 'Marco G.', True, 2)\n",
      "INSERT INTO ATHLETES VALUES ('Scarlett Paramo', 'Scarlett P.', True, 2)\n"
     ]
    }
   ],
   "source": [
    "athletes = [\n",
    "    {\n",
    "        \"name\": \"Emilio Padrón\",\n",
    "        \"strava_name\": \"Emilio P.\"\n",
    "    },\n",
    "    {\n",
    "        \"name\": \"Ana Barbara González\",\n",
    "        \"strava_name\": \"Ana Barbara G.\"\n",
    "    },\n",
    "    {\n",
    "        \"name\": \"Ana Ceci Foulkes\",\n",
    "        \"strava_name\": \"Ana Ceci F.\"\n",
    "    },\n",
    "    {\n",
    "        \"name\": \"Daniel Llamas\",\n",
    "        \"strava_name\": \"Daniel L.\"\n",
    "    },\n",
    "    {\n",
    "        \"name\": \"Fredy De León\",\n",
    "        \"strava_name\": \"Fredy D.\"\n",
    "    },\n",
    "    {\n",
    "        \"name\": \"Gerardo Martínez\",\n",
    "        \"strava_name\": \"Gerardo M.\"\n",
    "    },\n",
    "    {\n",
    "        \"name\": \"Jose Ge Estrada\",\n",
    "        \"strava_name\": \"Jose Ge E.\"\n",
    "    },\n",
    "    {\n",
    "        \"name\": \"Maryfer Gama\",\n",
    "        \"strava_name\": \"Maryfer G.\"\n",
    "    },\n",
    "    {\n",
    "        \"name\": \"Natalia Ortega\",\n",
    "        \"strava_name\": \"Natalia O.\"\n",
    "    },\n",
    "    {\n",
    "        \"name\": \"Sebastián Gutierrez\",\n",
    "        \"strava_name\": \"Sebastian G.\"\n",
    "    },\n",
    "    {\n",
    "        \"name\": \"Amado Herrera\",\n",
    "        \"strava_name\": \"Amado H.\"\n",
    "    },\n",
    "    {\n",
    "        \"name\": \"Marco González\",\n",
    "        \"strava_name\": \"Marco G.\"\n",
    "    },\n",
    "    {\n",
    "        \"name\": \"Scarlett Paramo\",\n",
    "        \"strava_name\": \"Scarlett P.\"\n",
    "    }\n",
    "]\n",
    "\n",
    "for athlete in athletes:\n",
    "    db.add_athlete(\n",
    "        name= athlete[\"name\"],\n",
    "        strava_name = athlete[\"strava_name\"],\n",
    "        active=True,\n",
    "        weeks_completed=2\n",
    "    )"
   ]
  },
  {
   "attachments": {},
   "cell_type": "markdown",
   "metadata": {},
   "source": [
    "### Change Weeks Completed in Athletes Table"
   ]
  },
  {
   "cell_type": "code",
   "execution_count": 4,
   "metadata": {},
   "outputs": [
    {
     "name": "stdout",
     "output_type": "stream",
     "text": [
      "UPDATE ATHLETES SET weeks_completed = 1 WHERE strava_name = 'Gerardo M.'\n",
      "UPDATE ATHLETES SET weeks_completed = 0 WHERE strava_name = 'Scarlett P.'\n",
      "UPDATE ATHLETES SET weeks_completed = 1 WHERE strava_name = 'Sebastian G.'\n",
      "UPDATE ATHLETES SET weeks_completed = 1 WHERE strava_name = 'Daniel L.'\n"
     ]
    }
   ],
   "source": [
    "db.update_weeks_completed_in_athlete(strava_name=\"Gerardo M.\", new_weeks=1)\n",
    "db.update_weeks_completed_in_athlete(strava_name=\"Scarlett P.\", new_weeks=0)\n",
    "db.update_weeks_completed_in_athlete(strava_name=\"Sebastian G.\", new_weeks=1)\n",
    "db.update_weeks_completed_in_athlete(strava_name=\"Daniel L.\", new_weeks=1)"
   ]
  },
  {
   "cell_type": "code",
   "execution_count": null,
   "metadata": {},
   "outputs": [],
   "source": []
  }
 ],
 "metadata": {
  "kernelspec": {
   "display_name": "py_env",
   "language": "python",
   "name": "python3"
  },
  "language_info": {
   "codemirror_mode": {
    "name": "ipython",
    "version": 3
   },
   "file_extension": ".py",
   "mimetype": "text/x-python",
   "name": "python",
   "nbconvert_exporter": "python",
   "pygments_lexer": "ipython3",
   "version": "3.8.16"
  },
  "orig_nbformat": 4,
  "vscode": {
   "interpreter": {
    "hash": "658e90a01bf3cea435986352b0690b9e4aa6627658434d357e4d946dd2bdd8c0"
   }
  }
 },
 "nbformat": 4,
 "nbformat_minor": 2
}
